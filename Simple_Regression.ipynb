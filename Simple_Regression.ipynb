{
  "nbformat": 4,
  "nbformat_minor": 0,
  "metadata": {
    "colab": {
      "name": "Simple Regression",
      "version": "0.3.2",
      "provenance": [],
      "collapsed_sections": [],
      "toc_visible": true
    },
    "kernelspec": {
      "name": "python3",
      "display_name": "Python 3"
    }
  },
  "cells": [
    {
      "cell_type": "code",
      "metadata": {
        "id": "2fDtVXFsomm0",
        "colab_type": "code",
        "colab": {}
      },
      "source": [
        ""
      ],
      "execution_count": 0,
      "outputs": []
    },
    {
      "cell_type": "markdown",
      "metadata": {
        "id": "-wBzb648o2cY",
        "colab_type": "text"
      },
      "source": [
        "# <font color = 'green'>Simple linear regression</font>\n",
        "\n",
        "In this note book i am going through simple linear regression.It is the easiest regression model we use it when there is only on independent variable.The formula for simple linear regression is \n",
        "\n",
        "$y = b_{0} + b_{1} * x_{1}$\n",
        "\n",
        "\n",
        "\n",
        "---\n",
        "\n",
        "\n",
        "*   $b_{0}$ is constant (y-intercept)\n",
        "*   $b_{1}$ is co-efficient (slope)\n",
        "\n",
        "\n",
        "Here the co-efficient decides how much a unit difference in independent varible gonna effect the dependent variable\n",
        "\n",
        "**In this notebook i am  going to work on a sallary dataset where i am going to predict what is sallary of a person based on his experience**\n"
      ]
    },
    {
      "cell_type": "code",
      "metadata": {
        "id": "LOmoSRpdtJZU",
        "colab_type": "code",
        "colab": {}
      },
      "source": [
        "import pandas as pd\n",
        "import numpy as np\n",
        "import matplotlib.pyplot as plt\n",
        "import seaborn as sns\n",
        "import statsmodels.api as sm\n",
        "\n",
        "from sklearn.linear_model import LinearRegression\n",
        "from sklearn.model_selection import train_test_split\n",
        "from sklearn.metrics import mean_squared_error,roc_auc_score\n",
        "\n",
        "sns.set_style({'xtick.bottom':False,\n",
        "              'ytick.left':False,\n",
        "               'axes.spines.top':False,\n",
        "               'axes.spines.bottom':False,\n",
        "               'axes.spines.left':False,\n",
        "               'axes.spines.right':False,               \n",
        "              })"
      ],
      "execution_count": 0,
      "outputs": []
    },
    {
      "cell_type": "code",
      "metadata": {
        "id": "tkvu5amZtjIs",
        "colab_type": "code",
        "outputId": "5de19c7b-ce5f-42f7-99d2-7901eb86cc26",
        "colab": {
          "base_uri": "https://localhost:8080/",
          "height": 204
        }
      },
      "source": [
        "df = pd.read_csv('Salary_Data.csv')\n",
        "df.head()"
      ],
      "execution_count": 0,
      "outputs": [
        {
          "output_type": "execute_result",
          "data": {
            "text/html": [
              "<div>\n",
              "<style scoped>\n",
              "    .dataframe tbody tr th:only-of-type {\n",
              "        vertical-align: middle;\n",
              "    }\n",
              "\n",
              "    .dataframe tbody tr th {\n",
              "        vertical-align: top;\n",
              "    }\n",
              "\n",
              "    .dataframe thead th {\n",
              "        text-align: right;\n",
              "    }\n",
              "</style>\n",
              "<table border=\"1\" class=\"dataframe\">\n",
              "  <thead>\n",
              "    <tr style=\"text-align: right;\">\n",
              "      <th></th>\n",
              "      <th>YearsExperience</th>\n",
              "      <th>Salary</th>\n",
              "    </tr>\n",
              "  </thead>\n",
              "  <tbody>\n",
              "    <tr>\n",
              "      <th>0</th>\n",
              "      <td>1.1</td>\n",
              "      <td>39343.0</td>\n",
              "    </tr>\n",
              "    <tr>\n",
              "      <th>1</th>\n",
              "      <td>1.3</td>\n",
              "      <td>46205.0</td>\n",
              "    </tr>\n",
              "    <tr>\n",
              "      <th>2</th>\n",
              "      <td>1.5</td>\n",
              "      <td>37731.0</td>\n",
              "    </tr>\n",
              "    <tr>\n",
              "      <th>3</th>\n",
              "      <td>2.0</td>\n",
              "      <td>43525.0</td>\n",
              "    </tr>\n",
              "    <tr>\n",
              "      <th>4</th>\n",
              "      <td>2.2</td>\n",
              "      <td>39891.0</td>\n",
              "    </tr>\n",
              "  </tbody>\n",
              "</table>\n",
              "</div>"
            ],
            "text/plain": [
              "   YearsExperience   Salary\n",
              "0              1.1  39343.0\n",
              "1              1.3  46205.0\n",
              "2              1.5  37731.0\n",
              "3              2.0  43525.0\n",
              "4              2.2  39891.0"
            ]
          },
          "metadata": {
            "tags": []
          },
          "execution_count": 2
        }
      ]
    },
    {
      "cell_type": "markdown",
      "metadata": {
        "id": "hdVQztIoucLe",
        "colab_type": "text"
      },
      "source": [
        "## EDA\n",
        "\n",
        "**Lets look at descriptive statastics**"
      ]
    },
    {
      "cell_type": "code",
      "metadata": {
        "id": "kX5jfT8nubYO",
        "colab_type": "code",
        "outputId": "8faf11e1-9558-40ad-d693-0c1152ba4ead",
        "colab": {
          "base_uri": "https://localhost:8080/",
          "height": 297
        }
      },
      "source": [
        "df.describe()"
      ],
      "execution_count": 0,
      "outputs": [
        {
          "output_type": "execute_result",
          "data": {
            "text/html": [
              "<div>\n",
              "<style scoped>\n",
              "    .dataframe tbody tr th:only-of-type {\n",
              "        vertical-align: middle;\n",
              "    }\n",
              "\n",
              "    .dataframe tbody tr th {\n",
              "        vertical-align: top;\n",
              "    }\n",
              "\n",
              "    .dataframe thead th {\n",
              "        text-align: right;\n",
              "    }\n",
              "</style>\n",
              "<table border=\"1\" class=\"dataframe\">\n",
              "  <thead>\n",
              "    <tr style=\"text-align: right;\">\n",
              "      <th></th>\n",
              "      <th>YearsExperience</th>\n",
              "      <th>Salary</th>\n",
              "    </tr>\n",
              "  </thead>\n",
              "  <tbody>\n",
              "    <tr>\n",
              "      <th>count</th>\n",
              "      <td>30.000000</td>\n",
              "      <td>30.000000</td>\n",
              "    </tr>\n",
              "    <tr>\n",
              "      <th>mean</th>\n",
              "      <td>5.313333</td>\n",
              "      <td>76003.000000</td>\n",
              "    </tr>\n",
              "    <tr>\n",
              "      <th>std</th>\n",
              "      <td>2.837888</td>\n",
              "      <td>27414.429785</td>\n",
              "    </tr>\n",
              "    <tr>\n",
              "      <th>min</th>\n",
              "      <td>1.100000</td>\n",
              "      <td>37731.000000</td>\n",
              "    </tr>\n",
              "    <tr>\n",
              "      <th>25%</th>\n",
              "      <td>3.200000</td>\n",
              "      <td>56720.750000</td>\n",
              "    </tr>\n",
              "    <tr>\n",
              "      <th>50%</th>\n",
              "      <td>4.700000</td>\n",
              "      <td>65237.000000</td>\n",
              "    </tr>\n",
              "    <tr>\n",
              "      <th>75%</th>\n",
              "      <td>7.700000</td>\n",
              "      <td>100544.750000</td>\n",
              "    </tr>\n",
              "    <tr>\n",
              "      <th>max</th>\n",
              "      <td>10.500000</td>\n",
              "      <td>122391.000000</td>\n",
              "    </tr>\n",
              "  </tbody>\n",
              "</table>\n",
              "</div>"
            ],
            "text/plain": [
              "       YearsExperience         Salary\n",
              "count        30.000000      30.000000\n",
              "mean          5.313333   76003.000000\n",
              "std           2.837888   27414.429785\n",
              "min           1.100000   37731.000000\n",
              "25%           3.200000   56720.750000\n",
              "50%           4.700000   65237.000000\n",
              "75%           7.700000  100544.750000\n",
              "max          10.500000  122391.000000"
            ]
          },
          "metadata": {
            "tags": []
          },
          "execution_count": 3
        }
      ]
    },
    {
      "cell_type": "code",
      "metadata": {
        "id": "ZKu7hgD3vqc9",
        "colab_type": "code",
        "outputId": "eb2bff17-0125-4739-e7f3-dcdcb8e9e5e7",
        "colab": {
          "base_uri": "https://localhost:8080/",
          "height": 68
        }
      },
      "source": [
        "df.median()"
      ],
      "execution_count": 0,
      "outputs": [
        {
          "output_type": "execute_result",
          "data": {
            "text/plain": [
              "YearsExperience        4.7\n",
              "Salary             65237.0\n",
              "dtype: float64"
            ]
          },
          "metadata": {
            "tags": []
          },
          "execution_count": 4
        }
      ]
    },
    {
      "cell_type": "markdown",
      "metadata": {
        "id": "Em7kSG1DuvHV",
        "colab_type": "text"
      },
      "source": [
        "**We have data for 30 employees**\n",
        "\n",
        "\n",
        "\n",
        "*   The average sallary from the data is 76003\n",
        "*   The average years of experience from the data is 5\n",
        "\n",
        "**Since median < mean we can say the data is mostly right skewed or positivly skewed.So there are chances of outliers in the data**\n",
        "\n",
        "Lets plot the data and see\n",
        "\n"
      ]
    },
    {
      "cell_type": "code",
      "metadata": {
        "id": "C370bG5buZYD",
        "colab_type": "code",
        "outputId": "64c5f28d-cb61-45eb-d006-5ce60d6db818",
        "colab": {
          "base_uri": "https://localhost:8080/",
          "height": 463
        }
      },
      "source": [
        "fig,(ax1,ax2 )= plt.subplots(nrows=1,ncols=2,figsize=(15,7))\n",
        "sns.distplot(df['YearsExperience'],kde=True,hist=False,bins=30,ax=ax1)\n",
        "sns.distplot(df['Salary'],kde=True,hist=False,bins=30,ax=ax2)"
      ],
      "execution_count": 0,
      "outputs": [
        {
          "output_type": "execute_result",
          "data": {
            "text/plain": [
              "<matplotlib.axes._subplots.AxesSubplot at 0x7fc455b2b9b0>"
            ]
          },
          "metadata": {
            "tags": []
          },
          "execution_count": 5
        },
        {
          "output_type": "display_data",
          "data": {
            "image/png": "[encoded data removed]",
            "text/plain": [
              "<Figure size 1080x504 with 2 Axes>"
            ]
          },
          "metadata": {
            "tags": []
          }
        }
      ]
    },
    {
      "cell_type": "markdown",
      "metadata": {
        "id": "zOFGRCJbyyUf",
        "colab_type": "text"
      },
      "source": [
        "**Looks like our data is close to normal we might not have toomany outliers**"
      ]
    },
    {
      "cell_type": "code",
      "metadata": {
        "id": "9t7L1pLBw_QJ",
        "colab_type": "code",
        "outputId": "41bd1af3-194b-459b-fc31-f1d7ee9aa703",
        "colab": {
          "base_uri": "https://localhost:8080/",
          "height": 354
        }
      },
      "source": [
        "fig,ax1= plt.subplots(figsize=(10,5))\n",
        "sns.scatterplot(x=df['YearsExperience'],y=df['Salary'],ax=ax1)"
      ],
      "execution_count": 0,
      "outputs": [
        {
          "output_type": "execute_result",
          "data": {
            "text/plain": [
              "<matplotlib.axes._subplots.AxesSubplot at 0x7fc455b0cfd0>"
            ]
          },
          "metadata": {
            "tags": []
          },
          "execution_count": 6
        },
        {
          "output_type": "display_data",
          "data": {
            "image/png": "[encoded data removed]",
            "text/plain": [
              "<Figure size 720x360 with 1 Axes>"
            ]
          },
          "metadata": {
            "tags": []
          }
        }
      ]
    },
    {
      "cell_type": "markdown",
      "metadata": {
        "id": "fvb04YTIze9r",
        "colab_type": "text"
      },
      "source": [
        "**dependednt variable and independent variable have linear relationship**\n",
        "\n",
        "**It dosen't look like we have any outliers**\n",
        "\n",
        "\n",
        "\n",
        "---\n",
        "\n",
        "**Before developing a model.We need to make sure data meets the assumptions of regression analysis**\n",
        "\n",
        "\n",
        "\n",
        "1.   Linearity\n",
        "2.   No endogeneity (Can verify after developing the model)\n",
        "3.   Homoscedasity (Can verify after developing the model)\n",
        "4.   No Autocorrelation\n",
        "5.   No multicollinearity"
      ]
    },
    {
      "cell_type": "markdown",
      "metadata": {
        "id": "8ESiZbdX3Pjy",
        "colab_type": "text"
      },
      "source": [
        "## Linearity\n",
        "\n",
        "There should be a linear relationship between Dependent variable and Independent variable"
      ]
    },
    {
      "cell_type": "code",
      "metadata": {
        "id": "Mzl6V1Tn3NxB",
        "colab_type": "code",
        "outputId": "5f223ff4-28c1-4bc6-a4ea-cc3d407f63dd",
        "colab": {
          "base_uri": "https://localhost:8080/",
          "height": 354
        }
      },
      "source": [
        "fig,ax1= plt.subplots(figsize=(10,5))\n",
        "sns.scatterplot(x=df['YearsExperience'],y=df['Salary'],ax=ax1)"
      ],
      "execution_count": 0,
      "outputs": [
        {
          "output_type": "execute_result",
          "data": {
            "text/plain": [
              "<matplotlib.axes._subplots.AxesSubplot at 0x7fc453294da0>"
            ]
          },
          "metadata": {
            "tags": []
          },
          "execution_count": 7
        },
        {
          "output_type": "display_data",
          "data": {
            "image/png": "[encoded data removed]",
            "text/plain": [
              "<Figure size 720x360 with 1 Axes>"
            ]
          },
          "metadata": {
            "tags": []
          }
        }
      ]
    },
    {
      "cell_type": "markdown",
      "metadata": {
        "id": "AvPciXpj323J",
        "colab_type": "text"
      },
      "source": [
        "## No multicollinearity\n",
        "\n",
        "Independent variables should not be correlated\n",
        "\n",
        "Since we have only one Independent variable there is no need of verifying this assumption"
      ]
    },
    {
      "cell_type": "markdown",
      "metadata": {
        "id": "qfmJZM5oFcTb",
        "colab_type": "text"
      },
      "source": [
        "## No Autocorrelation\n",
        "\n",
        "Ther should not be correaltion between residual terms.Autocorrelation mainly occurs in timeseries data"
      ]
    },
    {
      "cell_type": "code",
      "metadata": {
        "id": "Wtnbj_r1zMLy",
        "colab_type": "code",
        "colab": {}
      },
      "source": [
        "x = df['YearsExperience'].values\n",
        "y = df['Salary'].values"
      ],
      "execution_count": 0,
      "outputs": []
    },
    {
      "cell_type": "code",
      "metadata": {
        "id": "2F2iysKJDkIq",
        "colab_type": "code",
        "colab": {}
      },
      "source": [
        "x = sm.add_constant(x)\n",
        "results = sm.OLS(y,x).fit()"
      ],
      "execution_count": 0,
      "outputs": []
    },
    {
      "cell_type": "code",
      "metadata": {
        "id": "3KgcGzivD0-L",
        "colab_type": "code",
        "outputId": "735289e3-fc43-4674-92bf-ff68c4e6dd07",
        "colab": {
          "base_uri": "https://localhost:8080/",
          "height": 444
        }
      },
      "source": [
        "results.summary()"
      ],
      "execution_count": 0,
      "outputs": [
        {
          "output_type": "execute_result",
          "data": {
            "text/html": [
              "<table class=\"simpletable\">\n",
              "<caption>OLS Regression Results</caption>\n",
              "<tr>\n",
              "  <th>Dep. Variable:</th>            <td>y</td>        <th>  R-squared:         </th> <td>   0.957</td>\n",
              "</tr>\n",
              "<tr>\n",
              "  <th>Model:</th>                   <td>OLS</td>       <th>  Adj. R-squared:    </th> <td>   0.955</td>\n",
              "</tr>\n",
              "<tr>\n",
              "  <th>Method:</th>             <td>Least Squares</td>  <th>  F-statistic:       </th> <td>   622.5</td>\n",
              "</tr>\n",
              "<tr>\n",
              "  <th>Date:</th>             <td>Mon, 10 Jun 2019</td> <th>  Prob (F-statistic):</th> <td>1.14e-20</td>\n",
              "</tr>\n",
              "<tr>\n",
              "  <th>Time:</th>                 <td>16:02:07</td>     <th>  Log-Likelihood:    </th> <td> -301.44</td>\n",
              "</tr>\n",
              "<tr>\n",
              "  <th>No. Observations:</th>      <td>    30</td>      <th>  AIC:               </th> <td>   606.9</td>\n",
              "</tr>\n",
              "<tr>\n",
              "  <th>Df Residuals:</th>          <td>    28</td>      <th>  BIC:               </th> <td>   609.7</td>\n",
              "</tr>\n",
              "<tr>\n",
              "  <th>Df Model:</th>              <td>     1</td>      <th>                     </th>     <td> </td>   \n",
              "</tr>\n",
              "<tr>\n",
              "  <th>Covariance Type:</th>      <td>nonrobust</td>    <th>                     </th>     <td> </td>   \n",
              "</tr>\n",
              "</table>\n",
              "<table class=\"simpletable\">\n",
              "<tr>\n",
              "    <td></td>       <th>coef</th>     <th>std err</th>      <th>t</th>      <th>P>|t|</th>  <th>[0.025</th>    <th>0.975]</th>  \n",
              "</tr>\n",
              "<tr>\n",
              "  <th>const</th> <td> 2.579e+04</td> <td> 2273.053</td> <td>   11.347</td> <td> 0.000</td> <td> 2.11e+04</td> <td> 3.04e+04</td>\n",
              "</tr>\n",
              "<tr>\n",
              "  <th>x1</th>    <td> 9449.9623</td> <td>  378.755</td> <td>   24.950</td> <td> 0.000</td> <td> 8674.119</td> <td> 1.02e+04</td>\n",
              "</tr>\n",
              "</table>\n",
              "<table class=\"simpletable\">\n",
              "<tr>\n",
              "  <th>Omnibus:</th>       <td> 2.140</td> <th>  Durbin-Watson:     </th> <td>   1.648</td>\n",
              "</tr>\n",
              "<tr>\n",
              "  <th>Prob(Omnibus):</th> <td> 0.343</td> <th>  Jarque-Bera (JB):  </th> <td>   1.569</td>\n",
              "</tr>\n",
              "<tr>\n",
              "  <th>Skew:</th>          <td> 0.363</td> <th>  Prob(JB):          </th> <td>   0.456</td>\n",
              "</tr>\n",
              "<tr>\n",
              "  <th>Kurtosis:</th>      <td> 2.147</td> <th>  Cond. No.          </th> <td>    13.2</td>\n",
              "</tr>\n",
              "</table><br/><br/>Warnings:<br/>[1] Standard Errors assume that the covariance matrix of the errors is correctly specified."
            ],
            "text/plain": [
              "<class 'statsmodels.iolib.summary.Summary'>\n",
              "\"\"\"\n",
              "                            OLS Regression Results                            \n",
              "==============================================================================\n",
              "Dep. Variable:                      y   R-squared:                       0.957\n",
              "Model:                            OLS   Adj. R-squared:                  0.955\n",
              "Method:                 Least Squares   F-statistic:                     622.5\n",
              "Date:                Mon, 10 Jun 2019   Prob (F-statistic):           1.14e-20\n",
              "Time:                        16:02:07   Log-Likelihood:                -301.44\n",
              "No. Observations:                  30   AIC:                             606.9\n",
              "Df Residuals:                      28   BIC:                             609.7\n",
              "Df Model:                           1                                         \n",
              "Covariance Type:            nonrobust                                         \n",
              "==============================================================================\n",
              "                 coef    std err          t      P>|t|      [0.025      0.975]\n",
              "------------------------------------------------------------------------------\n",
              "const       2.579e+04   2273.053     11.347      0.000    2.11e+04    3.04e+04\n",
              "x1          9449.9623    378.755     24.950      0.000    8674.119    1.02e+04\n",
              "==============================================================================\n",
              "Omnibus:                        2.140   Durbin-Watson:                   1.648\n",
              "Prob(Omnibus):                  0.343   Jarque-Bera (JB):                1.569\n",
              "Skew:                           0.363   Prob(JB):                        0.456\n",
              "Kurtosis:                       2.147   Cond. No.                         13.2\n",
              "==============================================================================\n",
              "\n",
              "Warnings:\n",
              "[1] Standard Errors assume that the covariance matrix of the errors is correctly specified.\n",
              "\"\"\""
            ]
          },
          "metadata": {
            "tags": []
          },
          "execution_count": 21
        }
      ]
    },
    {
      "cell_type": "markdown",
      "metadata": {
        "id": "LWKOsMdRG9MS",
        "colab_type": "text"
      },
      "source": [
        "**Looks like there is slight auto correlation**"
      ]
    },
    {
      "cell_type": "markdown",
      "metadata": {
        "id": "NpbMi-gZHF3x",
        "colab_type": "text"
      },
      "source": [
        "**Simle linear regression using Sklearn**"
      ]
    },
    {
      "cell_type": "code",
      "metadata": {
        "id": "aXBbmdgtHgzU",
        "colab_type": "code",
        "colab": {}
      },
      "source": [
        "#Train Test Split data\n",
        "X = df['YearsExperience'].values\n",
        "y = df['Salary'].values\n",
        "X = X.reshape(-1,1)\n",
        "X_train, X_test, y_train, y_test = train_test_split(X,y,test_size=0.2)"
      ],
      "execution_count": 0,
      "outputs": []
    },
    {
      "cell_type": "code",
      "metadata": {
        "id": "PKU00vXuKLZF",
        "colab_type": "code",
        "outputId": "fa1d4b20-41b1-4032-afd7-7466f9720a04",
        "colab": {
          "base_uri": "https://localhost:8080/",
          "height": 34
        }
      },
      "source": [
        "X.shape"
      ],
      "execution_count": 0,
      "outputs": [
        {
          "output_type": "execute_result",
          "data": {
            "text/plain": [
              "(30, 1)"
            ]
          },
          "metadata": {
            "tags": []
          },
          "execution_count": 44
        }
      ]
    },
    {
      "cell_type": "code",
      "metadata": {
        "id": "TUq_qtwcHFob",
        "colab_type": "code",
        "outputId": "58c2a742-3bac-4817-f214-d526fa5f272e",
        "colab": {
          "base_uri": "https://localhost:8080/",
          "height": 34
        }
      },
      "source": [
        "lin_reg = LinearRegression()\n",
        "lin_reg.fit(X_train,y_train)"
      ],
      "execution_count": 0,
      "outputs": [
        {
          "output_type": "execute_result",
          "data": {
            "text/plain": [
              "LinearRegression(copy_X=True, fit_intercept=True, n_jobs=None, normalize=False)"
            ]
          },
          "metadata": {
            "tags": []
          },
          "execution_count": 45
        }
      ]
    },
    {
      "cell_type": "code",
      "metadata": {
        "id": "FnuUHEDAECVb",
        "colab_type": "code",
        "colab": {}
      },
      "source": [
        "y_pred = lin_reg.predict(X_test)"
      ],
      "execution_count": 0,
      "outputs": []
    },
    {
      "cell_type": "code",
      "metadata": {
        "id": "yTCZMg9qJj7M",
        "colab_type": "code",
        "outputId": "b3fbabb4-c6b4-4430-8b41-45f56d937e9f",
        "colab": {
          "base_uri": "https://localhost:8080/",
          "height": 34
        }
      },
      "source": [
        "y_train.shape"
      ],
      "execution_count": 0,
      "outputs": [
        {
          "output_type": "execute_result",
          "data": {
            "text/plain": [
              "(24,)"
            ]
          },
          "metadata": {
            "tags": []
          },
          "execution_count": 47
        }
      ]
    },
    {
      "cell_type": "code",
      "metadata": {
        "id": "2gk59RE7IqcI",
        "colab_type": "code",
        "outputId": "5ac79d53-1dc6-427c-ea2f-7349ae1ef945",
        "colab": {
          "base_uri": "https://localhost:8080/",
          "height": 567
        }
      },
      "source": [
        "fig_size = plt.rcParams[\"figure.figsize\"]\n",
        " \n",
        "# Set figure width to 12 and height to 9\n",
        "fig_size[0] = 12\n",
        "fig_size[1] = 9\n",
        "plt.rcParams[\"figure.figsize\"] = fig_size\n",
        "\n",
        "plt.scatter(X_train,y_train,color = 'red',linewidths=5)\n",
        "plt.plot(X_train,lin_reg.predict(X_train),color = 'green',linewidth=5)\n",
        "plt.xlabel('Yeatrs of Experience')\n",
        "plt.ylabel('Sallary')\n",
        "plt.title('Years of Experience vs Sallary')\n",
        "plt.show()"
      ],
      "execution_count": 0,
      "outputs": [
        {
          "output_type": "display_data",
          "data": {
            "image/png": "[encoded data removed]",
            "text/plain": [
              "<Figure size 864x648 with 1 Axes>"
            ]
          },
          "metadata": {
            "tags": []
          }
        }
      ]
    },
    {
      "cell_type": "code",
      "metadata": {
        "id": "ksI4kV6aKx9m",
        "colab_type": "code",
        "colab": {}
      },
      "source": [
        "residuals = y_test - y_pred"
      ],
      "execution_count": 0,
      "outputs": []
    },
    {
      "cell_type": "markdown",
      "metadata": {
        "id": "OoT4bQBtNEf4",
        "colab_type": "text"
      },
      "source": [
        "## Homoscedascity\n",
        "\n",
        "Residuals must be normally distrubuted"
      ]
    },
    {
      "cell_type": "code",
      "metadata": {
        "id": "aCUvB3E6MzZG",
        "colab_type": "code",
        "outputId": "6d8ff254-611b-4064-8fa4-4c2189748537",
        "colab": {
          "base_uri": "https://localhost:8080/",
          "height": 558
        }
      },
      "source": [
        "sns.distplot(residuals,kde=True,hist=False)"
      ],
      "execution_count": 0,
      "outputs": [
        {
          "output_type": "execute_result",
          "data": {
            "text/plain": [
              "<matplotlib.axes._subplots.AxesSubplot at 0x7fc452ba2da0>"
            ]
          },
          "metadata": {
            "tags": []
          },
          "execution_count": 72
        },
        {
          "output_type": "display_data",
          "data": {
            "image/png": "[encoded data removed]",
            "text/plain": [
              "<Figure size 864x648 with 1 Axes>"
            ]
          },
          "metadata": {
            "tags": []
          }
        }
      ]
    },
    {
      "cell_type": "markdown",
      "metadata": {
        "id": "sCjRXzdfNSQ3",
        "colab_type": "text"
      },
      "source": [
        "## No ndogenity\n",
        "\n",
        "Residuals and Independent varibles must not be correlated"
      ]
    },
    {
      "cell_type": "code",
      "metadata": {
        "id": "NfD3DCFLM8nu",
        "colab_type": "code",
        "outputId": "e3388236-e1d1-4784-e189-efe504ee5d4e",
        "colab": {
          "base_uri": "https://localhost:8080/",
          "height": 558
        }
      },
      "source": [
        "plt.scatter(x=X_test,y=residuals)"
      ],
      "execution_count": 0,
      "outputs": [
        {
          "output_type": "execute_result",
          "data": {
            "text/plain": [
              "<matplotlib.collections.PathCollection at 0x7fc452a87160>"
            ]
          },
          "metadata": {
            "tags": []
          },
          "execution_count": 78
        },
        {
          "output_type": "display_data",
          "data": {
            "image/png": "[encoded data removed]",
            "text/plain": [
              "<Figure size 864x648 with 1 Axes>"
            ]
          },
          "metadata": {
            "tags": []
          }
        }
      ]
    },
    {
      "cell_type": "markdown",
      "metadata": {
        "id": "zofhF4zoOAIH",
        "colab_type": "text"
      },
      "source": [
        "**They dont look correlated**"
      ]
    },
    {
      "cell_type": "code",
      "metadata": {
        "id": "2sdOXkAqQ1wt",
        "colab_type": "code",
        "outputId": "7dd5fa18-7f82-44ef-90d5-9f23313c1e04",
        "colab": {
          "base_uri": "https://localhost:8080/",
          "height": 51
        }
      },
      "source": [
        "mse = mean_squared_error(y_test,y_pred)\n",
        "mse_train = mean_squared_error(y_train,lin_reg.predict(X_train))\n",
        "\n",
        "rmse = np.sqrt(mse)\n",
        "rmse_train = np.sqrt(mse_train)\n",
        "\n",
        "print(f'Rmse Test: {rmse}')\n",
        "print(f'Rmse Train: {rmse_train}')"
      ],
      "execution_count": 0,
      "outputs": [
        {
          "output_type": "stream",
          "text": [
            "Rmse Test: 4899.345758619312\n",
            "Rmse Train: 5757.947054430878\n"
          ],
          "name": "stdout"
        }
      ]
    },
    {
      "cell_type": "markdown",
      "metadata": {
        "id": "5ExGRqiUPjT_",
        "colab_type": "text"
      },
      "source": [
        "**On average our model is off by 10,000 and it is also slightly underfitting**\n",
        "\n",
        "**Now since we made sure all the assumptions are true let's check how our model is working.Lets see what sallary our model is going to predict for a person with 6 years of experience**"
      ]
    },
    {
      "cell_type": "code",
      "metadata": {
        "id": "KgdZLTS1NiPF",
        "colab_type": "code",
        "outputId": "02b51f1a-cd6e-480e-93e6-4ac96bffdfab",
        "colab": {
          "base_uri": "https://localhost:8080/",
          "height": 34
        }
      },
      "source": [
        "check = np.array(7.1)\n",
        "check = check.reshape(-1,1)\n",
        "lin_reg.predict(check)"
      ],
      "execution_count": 0,
      "outputs": [
        {
          "output_type": "execute_result",
          "data": {
            "text/plain": [
              "array([92992.46902862])"
            ]
          },
          "metadata": {
            "tags": []
          },
          "execution_count": 101
        }
      ]
    },
    {
      "cell_type": "code",
      "metadata": {
        "id": "NgbezmZBOrp-",
        "colab_type": "code",
        "outputId": "a801411a-7db4-4715-fc83-4e2c15a55805",
        "colab": {
          "base_uri": "https://localhost:8080/",
          "height": 80
        }
      },
      "source": [
        "df[df['YearsExperience'] == 7.1]"
      ],
      "execution_count": 0,
      "outputs": [
        {
          "output_type": "execute_result",
          "data": {
            "text/html": [
              "<div>\n",
              "<style scoped>\n",
              "    .dataframe tbody tr th:only-of-type {\n",
              "        vertical-align: middle;\n",
              "    }\n",
              "\n",
              "    .dataframe tbody tr th {\n",
              "        vertical-align: top;\n",
              "    }\n",
              "\n",
              "    .dataframe thead th {\n",
              "        text-align: right;\n",
              "    }\n",
              "</style>\n",
              "<table border=\"1\" class=\"dataframe\">\n",
              "  <thead>\n",
              "    <tr style=\"text-align: right;\">\n",
              "      <th></th>\n",
              "      <th>YearsExperience</th>\n",
              "      <th>Salary</th>\n",
              "    </tr>\n",
              "  </thead>\n",
              "  <tbody>\n",
              "    <tr>\n",
              "      <th>21</th>\n",
              "      <td>7.1</td>\n",
              "      <td>98273.0</td>\n",
              "    </tr>\n",
              "  </tbody>\n",
              "</table>\n",
              "</div>"
            ],
            "text/plain": [
              "    YearsExperience   Salary\n",
              "21              7.1  98273.0"
            ]
          },
          "metadata": {
            "tags": []
          },
          "execution_count": 100
        }
      ]
    },
    {
      "cell_type": "markdown",
      "metadata": {
        "id": "V8CgTNEuQcMY",
        "colab_type": "text"
      },
      "source": [
        "**Looks like it isnt that bad afterall**"
      ]
    }
  ]
}